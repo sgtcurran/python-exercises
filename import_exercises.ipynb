{
 "cells": [
  {
   "cell_type": "code",
   "execution_count": 1,
   "id": "830de712",
   "metadata": {},
   "outputs": [
    {
     "name": "stdout",
     "output_type": "stream",
     "text": [
      "True\n",
      "True\n",
      "False\n",
      "False\n",
      "True\n",
      "True\n",
      "True\n",
      "False\n",
      "Zebra\n",
      "None\n",
      "Boat\n",
      "enter total bill to get tip100.25\n",
      "bill plus 20% tip = 120.3\n",
      "price = $10 Discount - 20% =  8.0\n",
      "remove comas from string: one two three four five\n",
      "Grade: D\n",
      "I came, I saw, I got blown up =  cm,  sw,  gt blwn p\n"
     ]
    }
   ],
   "source": [
    "from function_exercises import get_letter_grade as grade"
   ]
  },
  {
   "cell_type": "code",
   "execution_count": 8,
   "id": "d7d693f4",
   "metadata": {},
   "outputs": [
    {
     "name": "stdout",
     "output_type": "stream",
     "text": [
      "A\n"
     ]
    }
   ],
   "source": [
    "from function_exercises import get_letter_grade as gd\n",
    "grade1 = 90\n",
    "print(gd(grade1))"
   ]
  },
  {
   "cell_type": "code",
   "execution_count": null,
   "id": "688005c4",
   "metadata": {},
   "outputs": [],
   "source": []
  }
 ],
 "metadata": {
  "interpreter": {
   "hash": "d4254dfede92ed85b1e7effbb0ae0c06b8ef5710a6a6be3bdd84af0ac16bdfc5"
  },
  "kernelspec": {
   "display_name": "Python 3.9.9 64-bit ('codeup': conda)",
   "language": "python",
   "name": "python3"
  },
  "language_info": {
   "codemirror_mode": {
    "name": "ipython",
    "version": 3
   },
   "file_extension": ".py",
   "mimetype": "text/x-python",
   "name": "python",
   "nbconvert_exporter": "python",
   "pygments_lexer": "ipython3",
   "version": "3.9.9"
  }
 },
 "nbformat": 4,
 "nbformat_minor": 5
}
