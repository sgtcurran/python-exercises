{
 "cells": [
  {
   "cell_type": "code",
   "execution_count": 5,
   "id": "8126616c",
   "metadata": {},
   "outputs": [
    {
     "name": "stdout",
     "output_type": "stream",
     "text": [
      "hello world\n"
     ]
    }
   ],
   "source": [
    "print (\"hello world\")"
   ]
  },
  {
   "cell_type": "code",
   "execution_count": 11,
   "id": "5c2a9350",
   "metadata": {},
   "outputs": [
    {
     "name": "stdout",
     "output_type": "stream",
     "text": [
      "The sum of 2 + 2 = 4\n"
     ]
    }
   ],
   "source": [
    "def add(x, y):\n",
    "    f = x + y\n",
    "    \n",
    "    return f \n",
    "\n",
    "x1 = 2\n",
    "y1 = 2\n",
    "\n",
    "print(\"The sum of 2 + 2 =\", add(x1, y1))"
   ]
  },
  {
   "cell_type": "code",
   "execution_count": 1,
   "id": "3c76ec8c",
   "metadata": {
    "scrolled": true
   },
   "outputs": [
    {
     "name": "stdout",
     "output_type": "stream",
     "text": [
      "norm([0, 0]) == 0.0\n",
      "norm([3, 4]) == 5.0\n",
      "norm([0, 0, 1]) == 1.0\n",
      "norm([1, 2, 3, 4, 5, 6, 7 ]) == 11.832159566199232\n",
      "norm([5, 5, 5]) == 8.660254037844387\n",
      "norm([5, 5, 5, 5]) == 10.0\n",
      "norm([4, 5, 7]) == 9.486832980505138\n",
      "norm([3, 6, 9]) == 11.224972160321824\n",
      "norm([-10, 42, 25, 7, 8, 9, -29, 10]) == 60.199667773169644\n"
     ]
    }
   ],
   "source": [
    "import numpy as np\n",
    "def norm(list):\n",
    "  \n",
    "  \n",
    "  return np.linalg.norm([list])\n",
    "\n",
    "norm1 = [0, 0]\n",
    "norm2 = [3, 4]\n",
    "norm3 = [0, 0, 1]\n",
    "norm4 = [1, 2, 3, 4, 5, 6, 7 ]\n",
    "norm5 = [5, 5, 5]\n",
    "norm6 = [5, 5, 5, 5]\n",
    "norm7 = [4, 5, 7]\n",
    "norm8 = [3, 6, 9]\n",
    "norm9 = [-10, 42, 25, 7, 8, 9, -29, 10]\n",
    "\n",
    "print(\"norm([0, 0])\", \"==\", norm(norm1))\n",
    "print(\"norm([3, 4])\", \"==\", norm(norm2))\n",
    "print(\"norm([0, 0, 1])\", \"==\", norm(norm3))\n",
    "print(\"norm([1, 2, 3, 4, 5, 6, 7 ])\", \"==\", norm(norm4))\n",
    "print(\"norm([5, 5, 5])\", \"==\", norm(norm5))\n",
    "print(\"norm([5, 5, 5, 5])\", \"==\", norm(norm6))\n",
    "print(\"norm([4, 5, 7])\", \"==\", norm(norm7))\n",
    "print(\"norm([3, 6, 9])\", \"==\", norm(norm8))\n",
    "print(\"norm([-10, 42, 25, 7, 8, 9, -29, 10])\", \"==\", norm(norm9))"
   ]
  },
  {
   "cell_type": "code",
   "execution_count": null,
   "id": "2d0c8fb8",
   "metadata": {},
   "outputs": [],
   "source": [
    "# add cell hit esc then hit a"
   ]
  },
  {
   "cell_type": "code",
   "execution_count": null,
   "id": "18722d65",
   "metadata": {},
   "outputs": [],
   "source": [
    "# save & checkpoint cmd s"
   ]
  },
  {
   "cell_type": "code",
   "execution_count": null,
   "id": "8fe0376e",
   "metadata": {},
   "outputs": [],
   "source": [
    "# delete cell hit esc then hit dd\n"
   ]
  }
 ],
 "metadata": {
  "kernelspec": {
   "display_name": "Python [conda env:codeup] *",
   "language": "python",
   "name": "conda-env-codeup-py"
  },
  "language_info": {
   "codemirror_mode": {
    "name": "ipython",
    "version": 3
   },
   "file_extension": ".py",
   "mimetype": "text/x-python",
   "name": "python",
   "nbconvert_exporter": "python",
   "pygments_lexer": "ipython3",
   "version": "3.9.9"
  }
 },
 "nbformat": 4,
 "nbformat_minor": 5
}
